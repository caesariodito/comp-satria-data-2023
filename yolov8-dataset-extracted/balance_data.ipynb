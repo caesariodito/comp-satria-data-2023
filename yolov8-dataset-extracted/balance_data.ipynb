{
 "cells": [
  {
   "cell_type": "code",
   "execution_count": 1,
   "metadata": {},
   "outputs": [],
   "source": [
    "import albumentations as A\n",
    "import cv2\n",
    "import os\n",
    "from collections import Counter\n",
    "from sklearn.utils import resample\n"
   ]
  },
  {
   "cell_type": "code",
   "execution_count": 2,
   "metadata": {},
   "outputs": [],
   "source": [
    "transform = A.Compose([\n",
    "  A.Rotate(limit=10, border_mode=cv2.BORDER_CONSTANT, p=1),\n",
    "  # A.RandomBrightnessContrast(brightness_limit=0.05, contrast_limit=0.05, p=1),\n",
    "  # A.GaussianBlur(p=1),\n",
    "  # A.Perspective(scale=(0.07, 0.1), fit_output=True, pad_mode=cv2.BORDER_CONSTANT, pad_val=1, p=0.5)\n",
    "])"
   ]
  },
  {
   "cell_type": "code",
   "execution_count": 3,
   "metadata": {},
   "outputs": [],
   "source": [
    "data_dir = './fix-remapped-balanced/'\n",
    "class_names = os.listdir(data_dir)\n",
    "class_counts = Counter()\n",
    "for class_name in class_names:\n",
    "    class_counts[class_name] = len(os.listdir(os.path.join(data_dir, class_name)))\n",
    "max_count = max(class_counts.values())\n"
   ]
  },
  {
   "cell_type": "code",
   "execution_count": 4,
   "metadata": {},
   "outputs": [
    {
     "data": {
      "text/plain": [
       "Counter({'1': 1474,\n",
       "         'B': 1472,\n",
       "         '6': 1400,\n",
       "         '8': 1310,\n",
       "         'A': 1310,\n",
       "         '0': 1240,\n",
       "         '2': 1220,\n",
       "         '3': 1130,\n",
       "         '9': 1120,\n",
       "         '4': 1090,\n",
       "         '7': 1040,\n",
       "         '5': 1010,\n",
       "         'T': 740,\n",
       "         'J': 720,\n",
       "         'E': 700,\n",
       "         'U': 660,\n",
       "         'S': 590,\n",
       "         'K': 580,\n",
       "         'R': 530,\n",
       "         'F': 410,\n",
       "         'V': 400,\n",
       "         'Q': 360,\n",
       "         'Z': 340,\n",
       "         'D': 310,\n",
       "         'O': 310,\n",
       "         'N': 300,\n",
       "         'L': 270,\n",
       "         'W': 270,\n",
       "         'P': 260,\n",
       "         'I': 240,\n",
       "         'M': 240,\n",
       "         'Y': 240,\n",
       "         'X': 210,\n",
       "         'C': 200,\n",
       "         'H': 190,\n",
       "         'G': 180})"
      ]
     },
     "execution_count": 4,
     "metadata": {},
     "output_type": "execute_result"
    }
   ],
   "source": [
    "class_counts"
   ]
  },
  {
   "cell_type": "code",
   "execution_count": 5,
   "metadata": {},
   "outputs": [],
   "source": [
    "for class_name, count in class_counts.items():\n",
    "    if count < max_count:\n",
    "        diff = max_count - count\n",
    "        image_paths = [os.path.join(data_dir, class_name, image_name) for image_name in os.listdir(os.path.join(data_dir, class_name))]\n",
    "        image_paths = resample(image_paths, n_samples=diff, random_state=42, replace=True)\n",
    "        for i, image_path in enumerate(image_paths):\n",
    "            image = cv2.imread(image_path)\n",
    "            image = cv2.cvtColor(image, cv2.COLOR_BGR2RGB)\n",
    "            transformed = transform(image=image)\n",
    "            transformed_image = transformed['image']\n",
    "            new_image_path = os.path.join(data_dir, class_name, f'{i}.jpg')\n",
    "            transformed_image = cv2.cvtColor(transformed_image, cv2.COLOR_RGB2BGR)\n",
    "            cv2.imwrite(new_image_path, transformed_image)\n"
   ]
  }
 ],
 "metadata": {
  "kernelspec": {
   "display_name": "venv",
   "language": "python",
   "name": "python3"
  },
  "language_info": {
   "codemirror_mode": {
    "name": "ipython",
    "version": 3
   },
   "file_extension": ".py",
   "mimetype": "text/x-python",
   "name": "python",
   "nbconvert_exporter": "python",
   "pygments_lexer": "ipython3",
   "version": "3.11.4"
  },
  "orig_nbformat": 4
 },
 "nbformat": 4,
 "nbformat_minor": 2
}
