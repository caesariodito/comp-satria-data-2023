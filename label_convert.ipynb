{
 "cells": [
  {
   "cell_type": "markdown",
   "metadata": {},
   "source": [
    "## Convert Object Detection Label into Image Classification"
   ]
  },
  {
   "cell_type": "code",
   "execution_count": 5,
   "metadata": {},
   "outputs": [
    {
     "name": "stdout",
     "output_type": "stream",
     "text": [
      "total error in train: 1395\n",
      "total error in valid: 26\n",
      "total error in test: 26\n"
     ]
    }
   ],
   "source": [
    "import os\n",
    "from PIL import Image\n",
    "\n",
    "error_list = []\n",
    "\n",
    "# Set the base paths to the images and annotations folders\n",
    "base_images_path = './yolov8-dataset/'\n",
    "base_annotations_path = './yolov8-dataset/'\n",
    "\n",
    "# Set the base path to the output folder\n",
    "base_output_path = './yolov8-dataset-extracted/'\n",
    "\n",
    "# Set the dataset splits\n",
    "splits = ['train', 'valid', 'test']\n",
    "\n",
    "# Loop through the dataset splits\n",
    "for split in splits:\n",
    "    # Set the paths to the images and annotations folders for the current split\n",
    "    images_path = os.path.join(base_images_path, split, 'images')\n",
    "    annotations_path = os.path.join(base_annotations_path, split, 'labels')\n",
    "\n",
    "    # Set the path to the output folder for the current split\n",
    "    output_path = os.path.join(base_output_path, split)\n",
    "\n",
    "    # Create the output folder if it doesn't exist\n",
    "    if not os.path.exists(output_path):\n",
    "        os.makedirs(output_path)\n",
    "\n",
    "    error = []\n",
    "\n",
    "    # Loop through the annotation files\n",
    "    for filename in os.listdir(annotations_path):\n",
    "        # Open the annotation file\n",
    "        with open(os.path.join(annotations_path, filename), 'r') as f:\n",
    "            # Read the annotation data\n",
    "            data = f.read().strip().split('\\n')\n",
    "            \n",
    "            # Loop through the objects in the image\n",
    "            for obj in data:\n",
    "                # Split the object data\n",
    "                obj_data = obj.split(' ')\n",
    "                \n",
    "                try:\n",
    "                    # Get the class label and bounding box coordinates\n",
    "                    class_label = obj_data[0]\n",
    "                    x_center, y_center, width, height = map(float, obj_data[1:])\n",
    "                except ValueError:\n",
    "                    # print(f'Error processing file: {filename}')\n",
    "                    # print(f'Object data: {obj_data}')\n",
    "                    error.append(filename)\n",
    "                    # continue\n",
    "                    break\n",
    "                \n",
    "                # Open the image file\n",
    "                image_filename = filename.replace('.txt', '.jpg')\n",
    "                image = Image.open(os.path.join(images_path, image_filename))\n",
    "                \n",
    "                # Calculate the bounding box coordinates\n",
    "                image_width, image_height = image.size\n",
    "                x1 = int((x_center - width / 2) * image_width)\n",
    "                y1 = int((y_center - height / 2) * image_height)\n",
    "                x2 = int((x_center + width / 2) * image_width)\n",
    "                y2 = int((y_center + height / 2) * image_height)\n",
    "                \n",
    "                # Crop the image\n",
    "                cropped_image = image.crop((x1, y1, x2, y2))\n",
    "                \n",
    "                # Create the class label folder if it doesn't exist\n",
    "                class_folder = os.path.join(output_path, class_label)\n",
    "                if not os.path.exists(class_folder):\n",
    "                    os.makedirs(class_folder)\n",
    "                \n",
    "                # Save the cropped image\n",
    "                cropped_image.save(os.path.join(class_folder, f'{os.path.splitext(image_filename)[0]}_{class_label}.jpg'))\n",
    "    print(f'total error in {split}: {len(error)}')\n",
    "    error_list.append(error)\n",
    "\n"
   ]
  },
  {
   "cell_type": "code",
   "execution_count": 7,
   "metadata": {},
   "outputs": [
    {
     "data": {
      "text/plain": [
       "1395"
      ]
     },
     "execution_count": 7,
     "metadata": {},
     "output_type": "execute_result"
    }
   ],
   "source": [
    "error_list[0]"
   ]
  }
 ],
 "metadata": {
  "kernelspec": {
   "display_name": "venv",
   "language": "python",
   "name": "python3"
  },
  "language_info": {
   "codemirror_mode": {
    "name": "ipython",
    "version": 3
   },
   "file_extension": ".py",
   "mimetype": "text/x-python",
   "name": "python",
   "nbconvert_exporter": "python",
   "pygments_lexer": "ipython3",
   "version": "3.11.4"
  },
  "orig_nbformat": 4
 },
 "nbformat": 4,
 "nbformat_minor": 2
}
