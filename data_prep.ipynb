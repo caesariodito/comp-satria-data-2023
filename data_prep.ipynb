{
 "cells": [
  {
   "cell_type": "code",
   "execution_count": 1,
   "metadata": {},
   "outputs": [],
   "source": [
    "import os\n",
    "import cv2\n",
    "import pandas as pd"
   ]
  },
  {
   "cell_type": "code",
   "execution_count": 6,
   "metadata": {},
   "outputs": [],
   "source": [
    "folder_path = './data-modified/train/data/'\n",
    "csv_path = './data-modified/train/DataTrain.csv'\n",
    "\n",
    "# Load labels from CSV file\n",
    "labels_df = pd.read_csv(csv_path, delimiter=';')\n",
    "labels = labels_df['Vehicleregistrationplate'].values\n",
    "\n",
    "# Load images from folder\n",
    "images = []\n",
    "for filename in os.listdir(folder_path):\n",
    "    img = cv2.imread(os.path.join(folder_path, filename))\n",
    "    if img is not None:\n",
    "        images.append(img)"
   ]
  },
  {
   "cell_type": "code",
   "execution_count": 10,
   "metadata": {},
   "outputs": [
    {
     "data": {
      "text/html": [
       "<div>\n",
       "<style scoped>\n",
       "    .dataframe tbody tr th:only-of-type {\n",
       "        vertical-align: middle;\n",
       "    }\n",
       "\n",
       "    .dataframe tbody tr th {\n",
       "        vertical-align: top;\n",
       "    }\n",
       "\n",
       "    .dataframe thead th {\n",
       "        text-align: right;\n",
       "    }\n",
       "</style>\n",
       "<table border=\"1\" class=\"dataframe\">\n",
       "  <thead>\n",
       "    <tr style=\"text-align: right;\">\n",
       "      <th></th>\n",
       "      <th>Unnamed: 0</th>\n",
       "      <th>Vehicleregistrationplate</th>\n",
       "      <th>NameofFile</th>\n",
       "    </tr>\n",
       "  </thead>\n",
       "  <tbody>\n",
       "    <tr>\n",
       "      <th>0</th>\n",
       "      <td>0</td>\n",
       "      <td>A7814</td>\n",
       "      <td>DataTrain1.jpg</td>\n",
       "    </tr>\n",
       "    <tr>\n",
       "      <th>1</th>\n",
       "      <td>1</td>\n",
       "      <td>B1074QO</td>\n",
       "      <td>DataTrain2.jpg</td>\n",
       "    </tr>\n",
       "    <tr>\n",
       "      <th>2</th>\n",
       "      <td>2</td>\n",
       "      <td>B1031QO</td>\n",
       "      <td>DataTrain3.jpg</td>\n",
       "    </tr>\n",
       "    <tr>\n",
       "      <th>3</th>\n",
       "      <td>3</td>\n",
       "      <td>B187EDA</td>\n",
       "      <td>DataTrain4.jpg</td>\n",
       "    </tr>\n",
       "    <tr>\n",
       "      <th>4</th>\n",
       "      <td>4</td>\n",
       "      <td>B1089VD</td>\n",
       "      <td>DataTrain5.jpg</td>\n",
       "    </tr>\n",
       "    <tr>\n",
       "      <th>...</th>\n",
       "      <td>...</td>\n",
       "      <td>...</td>\n",
       "      <td>...</td>\n",
       "    </tr>\n",
       "    <tr>\n",
       "      <th>795</th>\n",
       "      <td>795</td>\n",
       "      <td>B1677EJC</td>\n",
       "      <td>DataTrain796.jpg</td>\n",
       "    </tr>\n",
       "    <tr>\n",
       "      <th>796</th>\n",
       "      <td>796</td>\n",
       "      <td>B1743VO</td>\n",
       "      <td>DataTrain797.jpg</td>\n",
       "    </tr>\n",
       "    <tr>\n",
       "      <th>797</th>\n",
       "      <td>797</td>\n",
       "      <td>AD1416YD</td>\n",
       "      <td>DataTrain798.jpg</td>\n",
       "    </tr>\n",
       "    <tr>\n",
       "      <th>798</th>\n",
       "      <td>798</td>\n",
       "      <td>AB5419TN</td>\n",
       "      <td>DataTrain799.jpg</td>\n",
       "    </tr>\n",
       "    <tr>\n",
       "      <th>799</th>\n",
       "      <td>799</td>\n",
       "      <td>AB6315SE</td>\n",
       "      <td>DataTrain800.jpg</td>\n",
       "    </tr>\n",
       "  </tbody>\n",
       "</table>\n",
       "<p>800 rows × 3 columns</p>\n",
       "</div>"
      ],
      "text/plain": [
       "     Unnamed: 0 Vehicleregistrationplate        NameofFile\n",
       "0             0                    A7814    DataTrain1.jpg\n",
       "1             1                  B1074QO    DataTrain2.jpg\n",
       "2             2                  B1031QO    DataTrain3.jpg\n",
       "3             3                  B187EDA    DataTrain4.jpg\n",
       "4             4                  B1089VD    DataTrain5.jpg\n",
       "..          ...                      ...               ...\n",
       "795         795                 B1677EJC  DataTrain796.jpg\n",
       "796         796                  B1743VO  DataTrain797.jpg\n",
       "797         797                 AD1416YD  DataTrain798.jpg\n",
       "798         798                 AB5419TN  DataTrain799.jpg\n",
       "799         799                 AB6315SE  DataTrain800.jpg\n",
       "\n",
       "[800 rows x 3 columns]"
      ]
     },
     "execution_count": 10,
     "metadata": {},
     "output_type": "execute_result"
    }
   ],
   "source": [
    "labels_df['NameofFile'] = labels_df['NameofFile'].str.replace('.png', '.jpg')\n",
    "labels_df"
   ]
  },
  {
   "cell_type": "code",
   "execution_count": null,
   "metadata": {},
   "outputs": [],
   "source": [
    "labels_df.drop('Unnamed')"
   ]
  }
 ],
 "metadata": {
  "kernelspec": {
   "display_name": "venv",
   "language": "python",
   "name": "python3"
  },
  "language_info": {
   "codemirror_mode": {
    "name": "ipython",
    "version": 3
   },
   "file_extension": ".py",
   "mimetype": "text/x-python",
   "name": "python",
   "nbconvert_exporter": "python",
   "pygments_lexer": "ipython3",
   "version": "3.11.4"
  },
  "orig_nbformat": 4
 },
 "nbformat": 4,
 "nbformat_minor": 2
}
