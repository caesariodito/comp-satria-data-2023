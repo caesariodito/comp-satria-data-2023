{
 "cells": [
  {
   "cell_type": "code",
   "execution_count": 16,
   "metadata": {},
   "outputs": [],
   "source": [
    "import albumentations as A\n",
    "import cv2\n",
    "import os\n",
    "from collections import Counter\n",
    "from sklearn.utils import resample\n"
   ]
  },
  {
   "cell_type": "code",
   "execution_count": 17,
   "metadata": {},
   "outputs": [],
   "source": [
    "transform = A.Compose([\n",
    "  A.Rotate(limit=10, border_mode=cv2.BORDER_CONSTANT, p=1),\n",
    "  A.RandomBrightnessContrast(brightness_limit=0.05, contrast_limit=0.05, p=1),\n",
    "  A.GaussianBlur(p=1),\n",
    "  A.Perspective(scale=(0.07, 0.1), fit_output=True, pad_mode=cv2.BORDER_CONSTANT, pad_val=1, p=0.5)\n",
    "])"
   ]
  },
  {
   "cell_type": "code",
   "execution_count": 18,
   "metadata": {},
   "outputs": [],
   "source": [
    "data_dir = './balanced-data/'\n",
    "class_names = os.listdir(data_dir)\n",
    "class_counts = Counter()\n",
    "for class_name in class_names:\n",
    "    class_counts[class_name] = len(os.listdir(os.path.join(data_dir, class_name)))\n",
    "max_count = max(class_counts.values())\n"
   ]
  },
  {
   "cell_type": "code",
   "execution_count": 19,
   "metadata": {},
   "outputs": [
    {
     "data": {
      "text/plain": [
       "Counter({'1': 237,\n",
       "         'B': 227,\n",
       "         'A': 65,\n",
       "         '8': 64,\n",
       "         '4': 62,\n",
       "         '5': 62,\n",
       "         '7': 61,\n",
       "         '6': 54,\n",
       "         'T': 45,\n",
       "         'S': 42,\n",
       "         '3': 40,\n",
       "         '9': 39,\n",
       "         'J': 39,\n",
       "         '2': 36,\n",
       "         'R': 30,\n",
       "         '0': 24,\n",
       "         'K': 23,\n",
       "         'U': 23,\n",
       "         'P': 21,\n",
       "         'F': 20,\n",
       "         'M': 20,\n",
       "         'N': 18,\n",
       "         'D': 17,\n",
       "         'L': 17,\n",
       "         'H': 16,\n",
       "         'E': 15,\n",
       "         'Z': 15,\n",
       "         'I': 14,\n",
       "         'Y': 10,\n",
       "         'V': 9,\n",
       "         'O': 8,\n",
       "         'W': 8,\n",
       "         'G': 7,\n",
       "         'Q': 7,\n",
       "         'C': 4,\n",
       "         'X': 4})"
      ]
     },
     "execution_count": 19,
     "metadata": {},
     "output_type": "execute_result"
    }
   ],
   "source": [
    "class_counts"
   ]
  },
  {
   "cell_type": "code",
   "execution_count": 20,
   "metadata": {},
   "outputs": [],
   "source": [
    "for class_name, count in class_counts.items():\n",
    "    if count < max_count:\n",
    "        diff = max_count - count\n",
    "        image_paths = [os.path.join(data_dir, class_name, image_name) for image_name in os.listdir(os.path.join(data_dir, class_name))]\n",
    "        image_paths = resample(image_paths, n_samples=diff, random_state=42, replace=True)\n",
    "        for i, image_path in enumerate(image_paths):\n",
    "            image = cv2.imread(image_path)\n",
    "            image = cv2.cvtColor(image, cv2.COLOR_BGR2RGB)\n",
    "            transformed = transform(image=image)\n",
    "            transformed_image = transformed['image']\n",
    "            new_image_path = os.path.join(data_dir, class_name, f'{i}.jpg')\n",
    "            transformed_image = cv2.cvtColor(transformed_image, cv2.COLOR_RGB2BGR)\n",
    "            cv2.imwrite(new_image_path, transformed_image)\n"
   ]
  }
 ],
 "metadata": {
  "kernelspec": {
   "display_name": "venv",
   "language": "python",
   "name": "python3"
  },
  "language_info": {
   "codemirror_mode": {
    "name": "ipython",
    "version": 3
   },
   "file_extension": ".py",
   "mimetype": "text/x-python",
   "name": "python",
   "nbconvert_exporter": "python",
   "pygments_lexer": "ipython3",
   "version": "3.11.4"
  },
  "orig_nbformat": 4
 },
 "nbformat": 4,
 "nbformat_minor": 2
}
